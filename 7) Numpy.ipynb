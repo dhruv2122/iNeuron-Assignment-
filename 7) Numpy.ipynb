{
 "cells": [
  {
   "cell_type": "markdown",
   "id": "347cb74a",
   "metadata": {},
   "source": [
    "## Write a function so that the columns of the output matrix are powers of the input vector.\n",
    "### The order of the powers is determined by the increasing boolean argument. Specifically, when increasing is False, the i-th output column is the input vector raised element-wise to the power of N - i - 1.\n",
    "### HINT: Such a matrix with a geometric progression in each row is named for Alexandre\u0002Theophile Vandermonde."
   ]
  },
  {
   "cell_type": "code",
   "execution_count": 1,
   "id": "5aa5bfa0",
   "metadata": {},
   "outputs": [],
   "source": [
    "import numpy as np\n",
    "\n",
    "def vandermonde_matrix(vector, n, increasing=False):\n",
    "    if increasing:\n",
    "        return np.column_stack([vector**i for i in range(n)])\n",
    "    else:\n",
    "        return np.column_stack([vector**(n-i-1) for i in range(n)])\n"
   ]
  },
  {
   "cell_type": "code",
   "execution_count": 2,
   "id": "61957ea9",
   "metadata": {},
   "outputs": [
    {
     "data": {
      "text/plain": [
       "array([[  1,   1,   1,   1,   1],\n",
       "       [ 16,   8,   4,   2,   1],\n",
       "       [ 81,  27,   9,   3,   1],\n",
       "       [256,  64,  16,   4,   1]])"
      ]
     },
     "execution_count": 2,
     "metadata": {},
     "output_type": "execute_result"
    }
   ],
   "source": [
    "vandermonde_matrix(np.array([1,2,3,4]), 5, increasing=False)\n",
    "\n"
   ]
  },
  {
   "cell_type": "code",
   "execution_count": 3,
   "id": "e2763f68",
   "metadata": {},
   "outputs": [
    {
     "data": {
      "text/plain": [
       "array([[  1,   1,   1,   1,   1],\n",
       "       [  1,   2,   4,   8,  16],\n",
       "       [  1,   3,   9,  27,  81],\n",
       "       [  1,   4,  16,  64, 256]])"
      ]
     },
     "execution_count": 3,
     "metadata": {},
     "output_type": "execute_result"
    }
   ],
   "source": [
    "vandermonde_matrix(np.array([1,2,3,4]), 5, increasing=True)"
   ]
  },
  {
   "cell_type": "markdown",
   "id": "9333c04b",
   "metadata": {},
   "source": [
    "### Write a function to find moving average in an array over a window:\n",
    "### Test it over [3, 5, 7, 2, 8, 10, 11, 65, 72, 81, 99, 100, 150] and window of 3."
   ]
  },
  {
   "cell_type": "code",
   "execution_count": 4,
   "id": "50025c21",
   "metadata": {},
   "outputs": [],
   "source": [
    "def moving_average(arr, window):\n",
    "    moving_averages = []\n",
    "    for i in range(len(arr) - window + 1):\n",
    "        window_sum = sum(arr[i:i+window])\n",
    "        moving_averages.append(window_sum / window)\n",
    "    return moving_averages"
   ]
  },
  {
   "cell_type": "code",
   "execution_count": 5,
   "id": "351d83c4",
   "metadata": {},
   "outputs": [
    {
     "data": {
      "text/plain": [
       "[5.0,\n",
       " 4.666666666666667,\n",
       " 5.666666666666667,\n",
       " 6.666666666666667,\n",
       " 9.666666666666666,\n",
       " 28.666666666666668,\n",
       " 49.333333333333336,\n",
       " 72.66666666666667,\n",
       " 84.0,\n",
       " 93.33333333333333,\n",
       " 116.33333333333333]"
      ]
     },
     "execution_count": 5,
     "metadata": {},
     "output_type": "execute_result"
    }
   ],
   "source": [
    "input = np.array([3, 5, 7, 2, 8, 10, 11, 65, 72, 81, 99, 100, 150])\n",
    "x = 3\n",
    "moving_average(input, x)"
   ]
  }
 ],
 "metadata": {
  "kernelspec": {
   "display_name": "Python 3 (ipykernel)",
   "language": "python",
   "name": "python3"
  },
  "language_info": {
   "codemirror_mode": {
    "name": "ipython",
    "version": 3
   },
   "file_extension": ".py",
   "mimetype": "text/x-python",
   "name": "python",
   "nbconvert_exporter": "python",
   "pygments_lexer": "ipython3",
   "version": "3.9.7"
  }
 },
 "nbformat": 4,
 "nbformat_minor": 5
}
