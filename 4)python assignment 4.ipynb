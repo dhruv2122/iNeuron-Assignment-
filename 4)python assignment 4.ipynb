{
 "cells": [
  {
   "cell_type": "markdown",
   "id": "c014c1fd",
   "metadata": {},
   "source": [
    "### 1.1 Write a Python Program(with class concepts) to find the area of the triangle using the below formula.\n",
    "###    area = (s*(s-a)*(s-b)*(s-c)) ** 0.5\n",
    "###    Function to take the length of the sides of triangle from user should be defined in the parent class and function to calculate the area should be defined in subclass."
   ]
  },
  {
   "cell_type": "code",
   "execution_count": 1,
   "id": "dd065fdc",
   "metadata": {},
   "outputs": [
    {
     "name": "stdout",
     "output_type": "stream",
     "text": [
      "Enter the length of side a: 8\n",
      "Enter the length of side b: 5\n",
      "Enter the length of side c: 7\n",
      "The area of the triangle is: 17.32\n"
     ]
    }
   ],
   "source": [
    "class Triangle:\n",
    "    def __init__(self):\n",
    "        self.a = float(input(\"Enter the length of side a: \"))\n",
    "        self.b = float(input(\"Enter the length of side b: \"))\n",
    "        self.c = float(input(\"Enter the length of side c: \"))\n",
    "        \n",
    "class Area(Triangle):\n",
    "    def __init__(self):\n",
    "        super().__init__()\n",
    "        \n",
    "    def calculate_area(self):\n",
    "        s = (self.a + self.b + self.c) / 2\n",
    "        area = (s * (s - self.a) * (s - self.b) * (s - self.c)) ** 0.5\n",
    "        print(\"The area of the triangle is:\", round(area,2))\n",
    "        \n",
    "a = Area()\n",
    "a.calculate_area()\n"
   ]
  },
  {
   "cell_type": "markdown",
   "id": "3ee95559",
   "metadata": {},
   "source": [
    "### 1.2 Write a function filter_long_words() that takes a list of words and an integer n and returns the list of words that are longer than n."
   ]
  },
  {
   "cell_type": "code",
   "execution_count": 2,
   "id": "f22b2b4c",
   "metadata": {},
   "outputs": [
    {
     "data": {
      "text/plain": [
       "['patidar']"
      ]
     },
     "execution_count": 2,
     "metadata": {},
     "output_type": "execute_result"
    }
   ],
   "source": [
    "n=5\n",
    "l=['dhruv','patidar','ajay']\n",
    "list(filter(lambda x:len(x)>n,l))"
   ]
  },
  {
   "cell_type": "markdown",
   "id": "beb71526",
   "metadata": {},
   "source": [
    "### 2.1 Write a Python program using function concept that maps list of words into a list of integers representing the lengths of the corresponding words.\n",
    "### Hint: If a list [ ab,cde,erty] is passed on to the python function output should come as [2,3,4]Here 2,3 and 4 are the lengths of the words in the list."
   ]
  },
  {
   "cell_type": "code",
   "execution_count": 3,
   "id": "a9bba718",
   "metadata": {},
   "outputs": [
    {
     "data": {
      "text/plain": [
       "[3, 4, 5]"
      ]
     },
     "execution_count": 3,
     "metadata": {},
     "output_type": "execute_result"
    }
   ],
   "source": [
    "l = ['abc', 'defg', 'mnopq']\n",
    "list(map(lambda x:len(x),l))"
   ]
  },
  {
   "cell_type": "markdown",
   "id": "20d7ed47",
   "metadata": {},
   "source": [
    "### 2.2 Write a Python function which takes a character (i.e. a string of length 1) and returns True if it is a vowel, False otherwise."
   ]
  },
  {
   "cell_type": "code",
   "execution_count": 4,
   "id": "83100638",
   "metadata": {},
   "outputs": [
    {
     "name": "stdout",
     "output_type": "stream",
     "text": [
      "Input your character: d\n"
     ]
    },
    {
     "data": {
      "text/plain": [
       "False"
      ]
     },
     "execution_count": 4,
     "metadata": {},
     "output_type": "execute_result"
    }
   ],
   "source": [
    "def find_vowel(character):\n",
    "    list_1=['a','e','i','o','u']\n",
    "    if character in list_1:\n",
    "        return True\n",
    "    else:\n",
    "        return False\n",
    "find_vowel(input(\"Input your character: \"))"
   ]
  }
 ],
 "metadata": {
  "kernelspec": {
   "display_name": "Python 3 (ipykernel)",
   "language": "python",
   "name": "python3"
  },
  "language_info": {
   "codemirror_mode": {
    "name": "ipython",
    "version": 3
   },
   "file_extension": ".py",
   "mimetype": "text/x-python",
   "name": "python",
   "nbconvert_exporter": "python",
   "pygments_lexer": "ipython3",
   "version": "3.9.7"
  }
 },
 "nbformat": 4,
 "nbformat_minor": 5
}
